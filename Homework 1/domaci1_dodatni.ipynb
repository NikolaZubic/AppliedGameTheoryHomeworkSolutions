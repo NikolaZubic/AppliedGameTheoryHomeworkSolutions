{
  "nbformat": 4,
  "nbformat_minor": 0,
  "metadata": {
    "colab": {
      "name": "domaci1_dodatni.ipynb",
      "provenance": [],
      "collapsed_sections": [],
      "machine_shape": "hm",
      "authorship_tag": "ABX9TyOW4F915rjVvSnpkUAh6y3l",
      "include_colab_link": true
    },
    "kernelspec": {
      "name": "python3",
      "display_name": "Python 3"
    }
  },
  "cells": [
    {
      "cell_type": "markdown",
      "metadata": {
        "id": "view-in-github",
        "colab_type": "text"
      },
      "source": [
        "<a href=\"https://colab.research.google.com/github/NikolaZubic/AppliedGameTheoryHomeworkSolutions/blob/main/domaci1_dodatni.ipynb\" target=\"_parent\"><img src=\"https://colab.research.google.com/assets/colab-badge.svg\" alt=\"Open In Colab\"/></a>"
      ]
    },
    {
      "cell_type": "markdown",
      "metadata": {
        "id": "U1gBcEtr4n9I"
      },
      "source": [
        "# PRVI DODATNI DOMAĆI ZADATAK iz predmeta \"Primenjena teorija igara\" (Applied Game Theory)"
      ]
    },
    {
      "cell_type": "markdown",
      "metadata": {
        "id": "NgcbjgtT4rUI"
      },
      "source": [
        "Razvoj bota za igranje igre Iks-Oks (Tic Tac Toe) koristeći \"MiniMax\" algoritam."
      ]
    },
    {
      "cell_type": "markdown",
      "metadata": {
        "id": "M0WJIoIG65n9"
      },
      "source": [
        "# Potrebni import-i"
      ]
    },
    {
      "cell_type": "code",
      "metadata": {
        "id": "FaV9gYj-68Wk"
      },
      "source": [
        "import gym\n",
        "import numpy as np\n",
        "from gym import spaces"
      ],
      "execution_count": null,
      "outputs": []
    },
    {
      "cell_type": "markdown",
      "metadata": {
        "id": "TvFYLOsb7SSu"
      },
      "source": [
        "# Definisanje Iks-Oks okruženja koristeći \"Open AI Gym\" toolkit"
      ]
    },
    {
      "cell_type": "code",
      "metadata": {
        "id": "7bRLoWc67TzO"
      },
      "source": [
        "class TicTacToeEnvironment(gym.Env):\n",
        "    # Because of human-friendly output\n",
        "    metadata = {'render.modes': ['human']}\n",
        "\n",
        "    def __init__(self, player_1, player_2):\n",
        "        \"\"\"\n",
        "        Board is predefined to a 3 x 3 grid.\n",
        "        We keep track of whether the game is over.\n",
        "        When initializing the TicTacToeEnvironment, we set game_over flag to 'False'.\n",
        "        :param player_1: First player\n",
        "        :param player_2: Second player\n",
        "        \"\"\"\n",
        "        self.observation_space = spaces.Discrete(3 * 3)\n",
        "        self.action_space = spaces.Discrete(9)\n",
        "        self.board = np.zeros((3, 3))\n",
        "        self.player_1 = player_1\n",
        "        self.player_2 = player_2\n",
        "        self.game_over = False\n",
        "        self.reset()\n",
        "\n",
        "        # Let player_1 play first\n",
        "        self.current_player = 1\n",
        "\n",
        "        # Board string representation\n",
        "        self.board_str = None\n",
        "\n",
        "    def reset(self):\n",
        "        # Resets the environment after one game.\n",
        "        self.board = np.zeros((3, 3))  # set board to zeros\n",
        "        self.board_str = None  # set board string representation to null\n",
        "        self.game_over = False\n",
        "        self.current_player = 1\n",
        "\n",
        "    def get_board(self):\n",
        "        # getter for current board\n",
        "        return self.board\n",
        "\n",
        "    def get_board_str(self):\n",
        "        # synchronize board string representation with current board state\n",
        "        self.board_str = str(self.board.reshape(3 * 3))\n",
        "        return self.board_str\n",
        "\n",
        "    def get_free_positions(self):\n",
        "        # return positions on the board that are free / not occupied\n",
        "        positions = [(i, j) for i in range(3) for j in range(3) if self.board[i, j] == 0]\n",
        "        return positions\n",
        "\n",
        "    def update_state(self, new_position):\n",
        "        \"\"\"\n",
        "        Update the current state of the board. First player puts '1' on the board, second player puts '-1' on the board.\n",
        "\n",
        "        :param new_position: from set { (0, 0), (0, 1), (0, 2), (1, 0,), (1, 1), (1, 2), (2, 0), (2, 1), (2, 2) }\n",
        "        :return: None\n",
        "        \"\"\"\n",
        "        self.board[new_position] = self.current_player\n",
        "\n",
        "        # If current player puts 1 (\"X\") on the board, next move is player 2 who puts -1 \"O\" on the board.\n",
        "        if self.current_player == 1:\n",
        "            self.current_player = -1\n",
        "        else:\n",
        "            self.current_player = 1\n",
        "\n",
        "    def check_game_status(self):\n",
        "        \"\"\"\n",
        "        Check if game has finished.\n",
        "\n",
        "        :return: 1 if player 1 has won,\n",
        "                 -1 if player 2 has won,\n",
        "                 0 if draw,\n",
        "                 None if game hasn't finished.\n",
        "        \"\"\"\n",
        "        for i in range(3):\n",
        "            if sum(self.board[i, :]) == 3:\n",
        "                self.game_over = True\n",
        "                return 1\n",
        "            if sum(self.board[i, :]) == -3:\n",
        "                self.game_over = True\n",
        "                return - 1\n",
        "\n",
        "        for i in range(3):\n",
        "            if sum(self.board[:, i]) == 3:\n",
        "                self.game_over = True\n",
        "                return 1\n",
        "            if sum(self.board[:, i]) == -3:\n",
        "                self.game_over = True\n",
        "                return -1\n",
        "\n",
        "        main_diagonal_sum = sum([self.board[i, i] for i in range(3)])\n",
        "        anti_diagonal_sum = sum([self.board[i, 3 - i - 1] for i in range(3)])\n",
        "        diagonal_sum = max(abs(main_diagonal_sum), abs(anti_diagonal_sum))\n",
        "\n",
        "        if diagonal_sum == 3:\n",
        "            self.game_over = True\n",
        "\n",
        "            if diagonal_sum == 3 or anti_diagonal_sum == 3:\n",
        "                return 1\n",
        "            else:\n",
        "                return - 1\n",
        "\n",
        "        # DRAW\n",
        "        if len(self.get_free_positions()) == 0:\n",
        "            self.game_over = True\n",
        "            return 0\n",
        "\n",
        "        self.game_over = False\n",
        "\n",
        "        return None\n",
        "\n",
        "    def step(self, action):\n",
        "        \"\"\"\n",
        "        Performs one action.\n",
        "\n",
        "        :param action: from set { (0, 0), (0, 1), (0, 2), (1, 0,), (1, 1), (1, 2), (2, 0), (2, 1), (2, 2) }\n",
        "        :return: current board state, reward, boolean indicating whether the game is over,\n",
        "                 information about won the game if over\n",
        "        \"\"\"\n",
        "        if self.game_over:\n",
        "            return self.board, 0, True, None\n",
        "\n",
        "        self.update_state(action)\n",
        "        current_game_status = self.check_game_status()\n",
        "\n",
        "        if current_game_status is not None:\n",
        "            if current_game_status == 1:\n",
        "                reward = 1\n",
        "                info = {\"Result\": \"Player 1 won the game.\"}\n",
        "            elif current_game_status == -1:\n",
        "                reward = -1\n",
        "                info = {\"Result\": \"Player 2 won the game.\"}\n",
        "            else:\n",
        "                # DRAW\n",
        "                reward = 0\n",
        "                info = {\"Result\": \"Draw.\"}\n",
        "            return self.board, reward, self.game_over, info\n",
        "        return self.board, None, self.game_over, None\n",
        "\n",
        "    def render(self):\n",
        "        for i in range(0, 3):\n",
        "            print('-------------')\n",
        "            out = '| '\n",
        "            for j in range(0, 3):\n",
        "                token = ''\n",
        "                if self.board[i, j] == 1:\n",
        "                    token = 'X'\n",
        "                if self.board[i, j] == -1:\n",
        "                    token = 'O'\n",
        "                if self.board[i, j] == 0:\n",
        "                    token = ' '\n",
        "                out += token + ' | '\n",
        "            print(out)\n",
        "        print('-------------')\n"
      ],
      "execution_count": null,
      "outputs": []
    },
    {
      "cell_type": "markdown",
      "metadata": {
        "id": "1SFvkeK37ahH"
      },
      "source": [
        "# MiniMax algoritam"
      ]
    },
    {
      "cell_type": "code",
      "metadata": {
        "id": "t20fWNQI7dlo"
      },
      "source": [
        "def minimax(current_board, depth, is_maximizing, computer_symbol, player_simbol):\n",
        "    if is_maximizing:\n",
        "        value_max = - np.inf\n",
        "        for i in range(3):\n",
        "            for j in range(3):\n",
        "                if current_board[i][j] == 0:\n",
        "                    current_board[i][j] = computer_symbol\n",
        "                    val = minimax(current_board, depth + 1, False, computer_symbol, player_simbol)\n",
        "                    current_board[i][j] = 0  # undo\n",
        "                    value_max = max(val, value_max)\n",
        "        return value_max\n",
        "\n",
        "    else:\n",
        "        value_max = np.inf\n",
        "        for i in range(3):\n",
        "            for j in range(3):\n",
        "                if current_board[i][j] == 0:\n",
        "                    current_board[i][j] = player_simbol\n",
        "                    val = minimax(current_board, depth + 1, True, computer_symbol, player_simbol)\n",
        "                    current_board[i][j] = 0  # undo\n",
        "                    value_max = min(val, value_max)\n",
        "        return value_max\n"
      ],
      "execution_count": null,
      "outputs": []
    },
    {
      "cell_type": "markdown",
      "metadata": {
        "id": "Au_XsnhN8Ez_"
      },
      "source": [
        "# Definisanje MiniMax agenta"
      ]
    },
    {
      "cell_type": "code",
      "metadata": {
        "id": "Q6JSZHOG8GwC"
      },
      "source": [
        "class MiniMaxAgent(object):\n",
        "\n",
        "    @staticmethod\n",
        "    def get_max_action(current_board, symbol):\n",
        "        \"\"\"\n",
        "        Choose best action.\n",
        "\n",
        "        :param current_board: current environment board\n",
        "        :param symbol: current player symbol (1 = \"X\" = PC and -1 = \"O\" = HUMAN)\n",
        "        :return: action, for example (1, 1) which is in the center of 3x3 grid\n",
        "        \"\"\"\n",
        "        value_max = - np.inf\n",
        "        action = None\n",
        "\n",
        "        for i in range(3):\n",
        "            for j in range(3):\n",
        "                if current_board[i][j] == 0:\n",
        "                    current_board[i][j] = symbol\n",
        "                    player_simbol = -1 if symbol == 1 else 1\n",
        "\n",
        "                    val = minimax(current_board=current_board, depth=1, is_maximizing=False, computer_symbol=symbol,\n",
        "                                  player_simbol=player_simbol)\n",
        "                    current_board[i][j] = 0  # undo\n",
        "\n",
        "                    if val > value_max:\n",
        "                        value_max = val\n",
        "                        action = (i, j)\n",
        "\n",
        "        return action\n"
      ],
      "execution_count": null,
      "outputs": []
    },
    {
      "cell_type": "markdown",
      "metadata": {
        "id": "05oPmzf97kxH"
      },
      "source": [
        "# Definisanje igrača, unos sa tastature"
      ]
    },
    {
      "cell_type": "code",
      "metadata": {
        "id": "QRu-7eBL7m4g"
      },
      "source": [
        "class HumanPlayer(object):\n",
        "    @staticmethod\n",
        "    def act(positions):\n",
        "        while True:\n",
        "            user_input = input(\"['O' on move] x,y: \")\n",
        "            x, y = user_input.split(\",\")\n",
        "            x_int, y_int = int(x) - 1, int(y) - 1\n",
        "            pos = (x_int, y_int)\n",
        "            if pos in positions:\n",
        "                return pos\n",
        "            else:\n",
        "                print(\"Invalid move. Try again.\")"
      ],
      "execution_count": null,
      "outputs": []
    },
    {
      "cell_type": "markdown",
      "metadata": {
        "id": "2c4LNUc572bJ"
      },
      "source": [
        "# Pokretanje igre"
      ]
    },
    {
      "cell_type": "code",
      "metadata": {
        "id": "Opv4SQjq73ug"
      },
      "source": [
        "def play_game():\n",
        "    player_1 = MiniMaxAgent()\n",
        "    player_2 = HumanPlayer()\n",
        "    agents = [player_1, player_2]\n",
        "\n",
        "    environment = TicTacToeEnvironment(player_1, player_2)\n",
        "    environment.reset()\n",
        "\n",
        "    is_done = False\n",
        "    environment.render()\n",
        "\n",
        "    while not is_done:\n",
        "        for agent in agents:\n",
        "            if agent == player_1:\n",
        "                action = agent.get_max_action(environment.get_board(), environment.current_player)\n",
        "            else:\n",
        "                action = agent.act(environment.get_free_positions())\n",
        "            state, reward, is_done, information = environment.step(action)\n",
        "            environment.render()\n",
        "\n",
        "            if is_done:\n",
        "                print(information['Result'])\n",
        "                break"
      ],
      "execution_count": null,
      "outputs": []
    },
    {
      "cell_type": "markdown",
      "metadata": {
        "id": "1DxTqote75XQ"
      },
      "source": [
        "# Glavni program"
      ]
    },
    {
      "cell_type": "code",
      "metadata": {
        "colab": {
          "base_uri": "https://localhost:8080/"
        },
        "id": "V0ejLIXY79nx",
        "outputId": "d4168bc4-317e-4f21-cc6a-381bf9613e05"
      },
      "source": [
        "play_game()"
      ],
      "execution_count": null,
      "outputs": [
        {
          "output_type": "stream",
          "text": [
            "-------------\n",
            "|   |   |   | \n",
            "-------------\n",
            "|   |   |   | \n",
            "-------------\n",
            "|   |   |   | \n",
            "-------------\n",
            "-------------\n",
            "| X |   |   | \n",
            "-------------\n",
            "|   |   |   | \n",
            "-------------\n",
            "|   |   |   | \n",
            "-------------\n",
            "['O' on move] x,y: 1,2\n",
            "-------------\n",
            "| X | O |   | \n",
            "-------------\n",
            "|   |   |   | \n",
            "-------------\n",
            "|   |   |   | \n",
            "-------------\n",
            "-------------\n",
            "| X | O | X | \n",
            "-------------\n",
            "|   |   |   | \n",
            "-------------\n",
            "|   |   |   | \n",
            "-------------\n",
            "['O' on move] x,y: 2,1\n",
            "-------------\n",
            "| X | O | X | \n",
            "-------------\n",
            "| O |   |   | \n",
            "-------------\n",
            "|   |   |   | \n",
            "-------------\n",
            "-------------\n",
            "| X | O | X | \n",
            "-------------\n",
            "| O | X |   | \n",
            "-------------\n",
            "|   |   |   | \n",
            "-------------\n",
            "['O' on move] x,y: 3,1\n",
            "-------------\n",
            "| X | O | X | \n",
            "-------------\n",
            "| O | X |   | \n",
            "-------------\n",
            "| O |   |   | \n",
            "-------------\n",
            "-------------\n",
            "| X | O | X | \n",
            "-------------\n",
            "| O | X | X | \n",
            "-------------\n",
            "| O |   |   | \n",
            "-------------\n",
            "['O' on move] x,y: 3,3\n",
            "-------------\n",
            "| X | O | X | \n",
            "-------------\n",
            "| O | X | X | \n",
            "-------------\n",
            "| O |   | O | \n",
            "-------------\n",
            "-------------\n",
            "| X | O | X | \n",
            "-------------\n",
            "| O | X | X | \n",
            "-------------\n",
            "| O | X | O | \n",
            "-------------\n",
            "Draw.\n"
          ],
          "name": "stdout"
        }
      ]
    }
  ]
}
