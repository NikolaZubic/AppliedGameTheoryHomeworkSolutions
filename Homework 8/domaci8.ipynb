{
  "nbformat": 4,
  "nbformat_minor": 0,
  "metadata": {
    "colab": {
      "name": "domaci8.ipynb",
      "provenance": [],
      "collapsed_sections": [],
      "authorship_tag": "ABX9TyO7J1aq9jGeIA/gURwuzJ8p",
      "include_colab_link": true
    },
    "kernelspec": {
      "name": "python3",
      "display_name": "Python 3"
    }
  },
  "cells": [
    {
      "cell_type": "markdown",
      "metadata": {
        "id": "view-in-github",
        "colab_type": "text"
      },
      "source": [
        "<a href=\"https://colab.research.google.com/github/NikolaZubic/AppliedGameTheoryHomeworkSolutions/blob/main/domaci8.ipynb\" target=\"_parent\"><img src=\"https://colab.research.google.com/assets/colab-badge.svg\" alt=\"Open In Colab\"/></a>"
      ]
    },
    {
      "cell_type": "markdown",
      "metadata": {
        "id": "_tXwFZw-7awj"
      },
      "source": [
        "# OSMI DOMAĆI ZADATAK iz predmeta \"Primenjena teorija igara\" (Applied Game Theory)"
      ]
    },
    {
      "cell_type": "markdown",
      "metadata": {
        "id": "rXMj5VO67e_6"
      },
      "source": [
        "a) Simulacija diferencijalne igre sa N letjelica koristeći prioritet<br>\n",
        "b) Simulacija diferencijalne igre sa N letjelica koristeći funkciju nesreće"
      ]
    },
    {
      "cell_type": "markdown",
      "metadata": {
        "id": "RZhkrQk99-ZO"
      },
      "source": [
        "Implementirano po uzoru na [link](https://github.com/aalu1418/differential-games)."
      ]
    },
    {
      "cell_type": "markdown",
      "metadata": {
        "id": "fN6yAcTb7vXq"
      },
      "source": [
        "# Potrebni import-i i konstante"
      ]
    },
    {
      "cell_type": "code",
      "metadata": {
        "id": "BSeL6cnc7xAd"
      },
      "source": [
        "from math import sqrt\n",
        "import matplotlib.pyplot as plt\n",
        "\n",
        "# CONSTANTS\n",
        "DISTANCE_COLLISION = 20  # a)\n",
        "DETECTION_RADIUS = 140   # b)\n",
        "\n",
        "COLOURS = ['b', 'g', 'r', 'c', 'm', 'y', 'k']  # to represent aircrafts on plot\n",
        "###########"
      ],
      "execution_count": null,
      "outputs": []
    },
    {
      "cell_type": "markdown",
      "metadata": {
        "id": "AU7aAqki8Pqq"
      },
      "source": [
        "# Definisanje klase koja enkapsulira osnovne informacije o svakom agentu (letjelici) u ovoj diferencijalnoj igri"
      ]
    },
    {
      "cell_type": "code",
      "metadata": {
        "id": "99ccVPJj8V2i"
      },
      "source": [
        "class AgentInfo(object):\n",
        "    \"\"\"\n",
        "    Encapsulates main information about every agent regarding its goal, initial position, history of taken positions\n",
        "    during the differential game, maximum velocity and id.\n",
        "    \"\"\"\n",
        "    def __init__(self, goal, initial_position, maximum_velocity, identifier):\n",
        "        self.goal = goal\n",
        "        self.initial_position = initial_position\n",
        "        # after assigning initial position, make it as position_0 in position's history\n",
        "        self.positions_history = [self.initial_position]\n",
        "        self.maximum_velocity = maximum_velocity\n",
        "        self.identifier = identifier"
      ],
      "execution_count": null,
      "outputs": []
    },
    {
      "cell_type": "markdown",
      "metadata": {
        "id": "ENSIQYNL8ZhS"
      },
      "source": [
        "# Definisanje agenta za a)"
      ]
    },
    {
      "cell_type": "code",
      "metadata": {
        "id": "aerVGkCt8bFS"
      },
      "source": [
        "class SimpleAgent(object):\n",
        "    def __init__(self, agent_info):\n",
        "        self.agent_info = agent_info\n",
        "\n",
        "    @property\n",
        "    def get_current_position(self):\n",
        "        return self.agent_info.positions_history[-1]  # get the last element in collection\n",
        "\n",
        "    @property\n",
        "    def get_aircraft_index(self):\n",
        "        return self.agent_info.identifier\n",
        "\n",
        "    def collision_region_detected(self, j, collision_distance):\n",
        "        \"\"\"\n",
        "        :param j: other aircraft\n",
        "        :param collision_distance: d_c\n",
        "        :return: whether we have detected another aircraft in collision region\n",
        "        \"\"\"\n",
        "        current_x, current_y = self.get_current_position[0], self.get_current_position[1]  # aircraft that we analyze\n",
        "        x_j, y_j = j\n",
        "\n",
        "        norm = sqrt(pow(x_j - current_x, 2) + pow(y_j - current_y, 2))\n",
        "\n",
        "        return norm < collision_distance  # inside the region, STRICTLY less\n",
        "\n",
        "    def priority_policy(self, aircrafts):\n",
        "        \"\"\"\n",
        "        We assign a priority to all aircrafts whereat the lower indexes are aircrafts of higher priorities.\n",
        "        [x0, ... , xN] means that x0 has HIGHER priority than x1, ... , x(N-1) has HIGHER priority than xN.\n",
        "\n",
        "        :param aircrafts: all aircrafts in differential game\n",
        "        :return: updated position by going with either maximum velocity or 0 in other case\n",
        "        \"\"\"\n",
        "        current_aircraft_id = self.get_aircraft_index\n",
        "\n",
        "        # take all aircrafts that have HIGHER priority than the current one (that we analyze)\n",
        "        for i in range(0, current_aircraft_id):\n",
        "            if self.collision_region_detected(aircrafts[i].get_current_position, DISTANCE_COLLISION):\n",
        "                # If an agent is in the collision region with an aircraft of higher priority, don't move him\n",
        "                return None\n",
        "\n",
        "        current_x, current_y = self.get_current_position[0], self.get_current_position[1]\n",
        "        goal_x, goal_y = self.agent_info.goal[0], self.agent_info.goal[1]\n",
        "\n",
        "        distance_from_goal_x, distance_from_goal_y = goal_x - current_x, goal_y - current_y\n",
        "        norm = sqrt(pow(distance_from_goal_x, 2) + pow(distance_from_goal_y, 2))\n",
        "\n",
        "        if norm != 0:\n",
        "            move_vector_x, move_vector_y = distance_from_goal_x / norm, distance_from_goal_y / norm\n",
        "        else:\n",
        "            move_vector_x, move_vector_y = 0, 0\n",
        "\n",
        "        # take all aircrafts that have LOWER priority than the current one (that we analyze)\n",
        "        for i in range(current_aircraft_id + 1, len(aircrafts)):\n",
        "            \"\"\"\n",
        "            If an agent is in the collision region with an aircraft of lower priority, then it is expected that he 'll\n",
        "            move with maximum velocity and the aircraft with lower priority won't move.\n",
        "            \"\"\"\n",
        "            if self.collision_region_detected(aircrafts[i].get_current_position, DISTANCE_COLLISION):\n",
        "                update_position_x = current_x + self.agent_info.maximum_velocity * move_vector_x\n",
        "                update_position_y = current_y + self.agent_info.maximum_velocity * move_vector_y\n",
        "\n",
        "                return update_position_x, update_position_y\n",
        "\n",
        "        update_x = current_x + self.agent_info.maximum_velocity * move_vector_x\n",
        "        update_y = current_y + self.agent_info.maximum_velocity * move_vector_y\n",
        "\n",
        "        return update_x, update_y\n"
      ],
      "execution_count": null,
      "outputs": []
    },
    {
      "cell_type": "markdown",
      "metadata": {
        "id": "irTx4vBF8eGz"
      },
      "source": [
        "# Definisanje unaprijeđenog agenta za b)"
      ]
    },
    {
      "cell_type": "code",
      "metadata": {
        "id": "AHO-t_xe8f2k"
      },
      "source": [
        "class ImprovedAgent(object):\n",
        "    def __init__(self, agent_info):\n",
        "        self.agent_info = agent_info\n",
        "\n",
        "    @property\n",
        "    def get_current_position(self):\n",
        "        return self.agent_info.positions_history[-1]  # get the last element in collection\n",
        "\n",
        "    @property\n",
        "    def get_aircraft_index(self):\n",
        "        return self.agent_info.identifier\n",
        "\n",
        "    def collision_region_detected(self, j, collision_distance):\n",
        "        \"\"\"\n",
        "        :param j: other aircraft\n",
        "        :param collision_distance: d_c\n",
        "        :return: whether we have detected another aircraft in collision region\n",
        "        \"\"\"\n",
        "        current_x, current_y = self.get_current_position[0], self.get_current_position[1]  # aircraft that we analyze\n",
        "        x_j, y_j = j\n",
        "\n",
        "        norm = sqrt(pow(x_j - current_x, 2) + pow(y_j - current_y, 2))\n",
        "\n",
        "        return norm < collision_distance  # inside the region, STRICTLY less\n",
        "\n",
        "    def degree_of_accident_policy(self, aircrafts):\n",
        "        \"\"\"\n",
        "        Here, we implement new policy where we have some detection radius R for each aircraft. Additionally, we use\n",
        "        function called degree of accident V that is defined as following for i-th aircraft:\n",
        "        V_i(x_1, x_2, ... , x_N) = (1/2) * (||x_i - z_i||)^2 + (1/2) *\n",
        "        sum[for j != i]( max( (R^2 - ||x_i - x_j||^2) / (||x_i - x_j||^2 - r^2) , 0) )^2 ,\n",
        "\n",
        "        where x_i is current position of i-th aircraft, x_j is current position of j-th aircraft in j-th iteration\n",
        "        through sum, z_i is the goal of i-th aircraft.\n",
        "\n",
        "        This helps us to detect collision region between aircrafts only if they are inside detection radius, otherwise\n",
        "        we won't take them into account. Maximum function inside sum will produce big number if aircrafts are INSIDE\n",
        "        (strictly less) collision region, which will lead to upsurge of V.\n",
        "\n",
        "        :param aircrafts: all aircrafts in differential game\n",
        "        :return: updated position based on V function\n",
        "        \"\"\"\n",
        "\n",
        "        # v_i = z_i - x_i + sum[j]( a_ij * (x_i - x_j) )\n",
        "\n",
        "        a_i, a_j = 0, 0\n",
        "        current_x, current_y = self.get_current_position[0], self.get_current_position[1]\n",
        "\n",
        "        for aircraft in aircrafts:\n",
        "            if aircraft.get_aircraft_index != self.get_aircraft_index:\n",
        "                # analyze all the other aircrafts from the viewpoint of current aircraft\n",
        "                x_j, y_j = aircraft.get_current_position[0], aircraft.get_current_position[1]\n",
        "\n",
        "                distance_ij_X, distance_ij_Y = x_j - current_x, y_j - current_y\n",
        "\n",
        "                norm = sqrt(pow(distance_ij_X, 2) + pow(distance_ij_Y, 2))\n",
        "\n",
        "                # max( (R^2 - ||x_i - x_j||^2) / (||x_i - x_j||^2 - r^2) , 0)\n",
        "                max_function = max(\n",
        "                    (pow(DETECTION_RADIUS, 2) - pow(norm, 2)) / (pow(norm, 2) - pow(DISTANCE_COLLISION, 2)), 0)\n",
        "\n",
        "                a_i, a_j = a_i + distance_ij_X * max_function, a_j + distance_ij_Y * max_function\n",
        "\n",
        "        goal_x, goal_y = self.agent_info.goal[0], self.agent_info.goal[1]\n",
        "\n",
        "        distance_from_goal_x, distance_from_goal_y = goal_x - current_x, goal_y - current_y\n",
        "\n",
        "        z_minus_x_i, z_minus_x_j = distance_from_goal_x - a_i, distance_from_goal_y - a_j\n",
        "        norm = sqrt(pow(z_minus_x_i, 2) + pow(z_minus_x_j, 2))\n",
        "\n",
        "        move_vector_x, move_vector_y = z_minus_x_i / norm, z_minus_x_j / norm\n",
        "\n",
        "        update_x = current_x + self.agent_info.maximum_velocity * move_vector_x\n",
        "        update_y = current_y + self.agent_info.maximum_velocity * move_vector_y\n",
        "\n",
        "        return update_x, update_y\n"
      ],
      "execution_count": null,
      "outputs": []
    },
    {
      "cell_type": "markdown",
      "metadata": {
        "id": "CxX0iKQH8kU7"
      },
      "source": [
        "# Definisanje klase zadužene za simulaciju"
      ]
    },
    {
      "cell_type": "code",
      "metadata": {
        "id": "gPNc24158lJ7"
      },
      "source": [
        "class Simulation(object):\n",
        "    def __init__(self, aircrafts):\n",
        "        self.aircrafts = aircrafts\n",
        "\n",
        "    def run(self):\n",
        "        for i in range(200):\n",
        "            for aircraft in self.aircrafts:\n",
        "                if isinstance(aircraft, SimpleAgent):\n",
        "                    position = aircraft.priority_policy(aircrafts=aircrafts)\n",
        "\n",
        "                    if position is not None:\n",
        "                        aircraft.agent_info.positions_history.append(position)\n",
        "\n",
        "                elif isinstance(aircraft, ImprovedAgent):\n",
        "                    position = aircraft.degree_of_accident_policy(aircrafts=aircrafts)\n",
        "\n",
        "                    if position is not None:\n",
        "                        aircraft.agent_info.positions_history.append(position)\n",
        "\n",
        "    def draw(self):\n",
        "        plt.xlim(-205, 205)\n",
        "        plt.ylim(-155, 155)\n",
        "        plt.xlabel('x', fontsize=18)\n",
        "        plt.ylabel('y', fontsize=18)\n",
        "\n",
        "        i = 0\n",
        "\n",
        "        for aircraft in self.aircrafts:\n",
        "            x, y = [], []\n",
        "            for position in aircraft.agent_info.positions_history:\n",
        "                x.append(position[0])\n",
        "                y.append(position[1])\n",
        "\n",
        "            plt.plot(x, y, \"{}\".format(COLOURS[i]), linestyle=\"dotted\")\n",
        "\n",
        "            plt.plot(aircraft.agent_info.initial_position[0], aircraft.agent_info.initial_position[1],\n",
        "                     \"{}o\".format(COLOURS[i]), markersize=9)\n",
        "\n",
        "            plt.plot(aircraft.agent_info.goal[0], aircraft.agent_info.goal[1],\n",
        "                     \"{}x\".format(COLOURS[i]), markersize=9)\n",
        "\n",
        "            i += 1\n",
        "\n",
        "        plt.show()\n",
        "\n",
        "    @staticmethod\n",
        "    def run_simulation(agents):\n",
        "        simulation = Simulation(agents)\n",
        "        simulation.run()\n",
        "        simulation.draw()\n"
      ],
      "execution_count": null,
      "outputs": []
    },
    {
      "cell_type": "markdown",
      "metadata": {
        "id": "qZkeGMPR8pok"
      },
      "source": [
        "# Glavni program (pokretanje simulacije)"
      ]
    },
    {
      "cell_type": "code",
      "metadata": {
        "colab": {
          "base_uri": "https://localhost:8080/",
          "height": 881
        },
        "id": "3aVGVFlF8rJ9",
        "outputId": "df06a4dc-e5bf-4ea3-9c25-3da0643f63d0"
      },
      "source": [
        "if __name__ == \"__main__\":\n",
        "    aircrafts_info = [\n",
        "        AgentInfo(goal=(200, 100), initial_position=(-200, -100), maximum_velocity=40, identifier=0),\n",
        "        AgentInfo(goal=(-100, 80), initial_position=(-160, -45), maximum_velocity=20, identifier=1),\n",
        "        AgentInfo(goal=(200, -100), initial_position=(-200, 100), maximum_velocity=30, identifier=2),\n",
        "        AgentInfo(goal=(0, 0), initial_position=(-195, 25), maximum_velocity=35, identifier=3),\n",
        "        AgentInfo(goal=(0, -75), initial_position=(0, 75), maximum_velocity=25, identifier=4),\n",
        "        AgentInfo(goal=(0, 75), initial_position=(0, -75), maximum_velocity=25, identifier=5),\n",
        "    ]\n",
        "\n",
        "    aircrafts = [SimpleAgent(aircrafts_info[i]) for i in range(len(aircrafts_info) - 2)]\n",
        "    improved_aircrafts = [ImprovedAgent(aircrafts_info[i]) for i in range(len(aircrafts_info))]\n",
        "\n",
        "    print(\"Running simulation a)\")\n",
        "    Simulation.run_simulation(aircrafts)\n",
        "    print(\"Running simulation b)\")\n",
        "    Simulation.run_simulation(improved_aircrafts)\n",
        "\n",
        "    aircrafts_info = [\n",
        "        AgentInfo(goal=(80, 80), initial_position=(-80, -80), maximum_velocity=25, identifier=0),\n",
        "        AgentInfo(goal=(-80, 80), initial_position=(80, -80), maximum_velocity=40, identifier=1)\n",
        "    ]\n",
        "    improved_aircrafts = [ImprovedAgent(aircrafts_info[i]) for i in range(len(aircrafts_info))]\n",
        "    print(\"Running simulation b) #2\")\n",
        "    Simulation.run_simulation(improved_aircrafts)\n"
      ],
      "execution_count": null,
      "outputs": [
        {
          "output_type": "stream",
          "text": [
            "Running simulation a)\n"
          ],
          "name": "stdout"
        },
        {
          "output_type": "display_data",
          "data": {
            "image/png": "[encoded data removed]",
            "text/plain": [
              "<Figure size 432x288 with 1 Axes>"
            ]
          },
          "metadata": {
            "tags": [],
            "needs_background": "light"
          }
        },
        {
          "output_type": "stream",
          "text": [
            "Running simulation b)\n"
          ],
          "name": "stdout"
        },
        {
          "output_type": "display_data",
          "data": {
            "image/png": "[encoded data removed]",
            "text/plain": [
              "<Figure size 432x288 with 1 Axes>"
            ]
          },
          "metadata": {
            "tags": [],
            "needs_background": "light"
          }
        },
        {
          "output_type": "stream",
          "text": [
            "Running simulation b) #2\n"
          ],
          "name": "stdout"
        },
        {
          "output_type": "display_data",
          "data": {
            "image/png": "[encoded data removed]",
            "text/plain": [
              "<Figure size 432x288 with 1 Axes>"
            ]
          },
          "metadata": {
            "tags": [],
            "needs_background": "light"
          }
        }
      ]
    }
  ]
}
