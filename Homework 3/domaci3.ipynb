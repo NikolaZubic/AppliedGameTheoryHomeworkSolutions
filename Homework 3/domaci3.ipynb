{
  "nbformat": 4,
  "nbformat_minor": 0,
  "metadata": {
    "colab": {
      "name": "domaci3.ipynb",
      "provenance": [],
      "collapsed_sections": [],
      "machine_shape": "hm",
      "authorship_tag": "ABX9TyOQ2Tmvcggp0cUMiQ40Q9HY",
      "include_colab_link": true
    },
    "kernelspec": {
      "name": "python3",
      "display_name": "Python 3"
    },
    "accelerator": "GPU"
  },
  "cells": [
    {
      "cell_type": "markdown",
      "metadata": {
        "id": "view-in-github",
        "colab_type": "text"
      },
      "source": [
        "<a href=\"https://colab.research.google.com/github/NikolaZubic/AppliedGameTheoryHomeworkSolutions/blob/main/domaci3.ipynb\" target=\"_parent\"><img src=\"https://colab.research.google.com/assets/colab-badge.svg\" alt=\"Open In Colab\"/></a>"
      ]
    },
    {
      "cell_type": "markdown",
      "metadata": {
        "id": "0ELjsW9npfRy"
      },
      "source": [
        "# TREĆI DOMAĆI ZADATAK iz predmeta \"Primenjena teorija igara\" (Applied Game Theory)"
      ]
    },
    {
      "cell_type": "markdown",
      "metadata": {
        "id": "CXG5YSsXptDK"
      },
      "source": [
        "Razvoj bota za igranje igre Ajnc (BlackJack) koristeći \"Q-learning\" pristup."
      ]
    },
    {
      "cell_type": "markdown",
      "metadata": {
        "id": "UrqNt7bJtKow"
      },
      "source": [
        "# Potrebni import-i"
      ]
    },
    {
      "cell_type": "code",
      "metadata": {
        "id": "yvY_1uDEtO1R"
      },
      "source": [
        "import gym\n",
        "import numpy as np\n",
        "import matplotlib.pyplot as plt\n",
        "from gym import spaces\n",
        "import seaborn as sns"
      ],
      "execution_count": null,
      "outputs": []
    },
    {
      "cell_type": "markdown",
      "metadata": {
        "id": "mPtvu4X4CXe-"
      },
      "source": [
        "# Definisanje Ajnc okruženja koristeći \"Open AI Gym\" toolkit"
      ]
    },
    {
      "cell_type": "code",
      "metadata": {
        "id": "m2PLs4eQCt8O"
      },
      "source": [
        "class BlackJackEnvironment(gym.Env):\n",
        "    # Because of human-friendly output\n",
        "    metadata = {'render.modes':['human']}\n",
        "    \n",
        "    def __init__(self):\n",
        "      \"\"\"\n",
        "      We will define possible number of states with observation_space.\n",
        "      Player's sum can go from 4 to 32: Now when the sum is 22, and the player chooses to hit, he may get a card with value 10, resulting in a sum of 32, and thus loosing the game.\n",
        "      Dealer's card can be from 1 to 10 and we have 2 actions.\n",
        "      Total number of states: 29 * 10 * 2 = 580\n",
        "      Total number of actions = 2 = len( {\"HIT\", \"STAND\"} )\n",
        "      \"\"\"\n",
        "      self.observation_space = spaces.Discrete(580)\n",
        "      self.action_space = spaces.Discrete(2)\n",
        "      self.step_count = 0 # at the beginning of the game we have 0 actions taken\n",
        "\n",
        "    def check_usable_ace(self,hand):\n",
        "        \"\"\"\n",
        "        If someone has an usable ace, we will replace that ace (1) with 11.\n",
        "\n",
        "        :param hand: player's or dealer's card\n",
        "        :return: True if we have usable ace, False otherwise\n",
        "        \"\"\"\n",
        "        temp_hand = hand.copy()\n",
        "        \n",
        "        # Check if there is ace in hand\n",
        "        if np.any(temp_hand == 1):\n",
        "            # If we have any ace then replace it with 11, but if we have more than one ace replace the first one with 11\n",
        "            temp_hand[np.where(temp_hand == 1)[0][0]] = 11\n",
        "\n",
        "            # If the sum is less or equal than 21 then we can use it\n",
        "            if temp_hand.sum() <= 21:\n",
        "                return True\n",
        "\n",
        "        return False\n",
        "        \n",
        "    def use_ace(self,hand):\n",
        "        \"\"\"\n",
        "        If there is usable ace in function above, then replace 1 with 11.\n",
        "\n",
        "        :param hand: player's or dealer's hand\n",
        "        :return: new hand where 1 is replaced with 11\n",
        "        \"\"\"\n",
        "        temp_hand = hand.copy()\n",
        "        temp_hand[np.where(temp_hand == 1)[0][0]] = 11\n",
        "        return temp_hand\n",
        "        \n",
        "    def reset(self):\n",
        "        # Resets the environment after one game.\n",
        "        \n",
        "        # Initialize player's hand\n",
        "        self.current_hand = np.random.choice(range(1,11),2)\n",
        "        \n",
        "        # Initialize usable Ace to False, since we don't have it at the very beginning\n",
        "        self.usable_ace = False\n",
        "  \n",
        "        self.dealer_stand, self.player_stand = False, False\n",
        "    \n",
        "        # Replace usable ace in the player's hand  \n",
        "        if self.check_usable_ace(self.current_hand):\n",
        "            self.usable_ace = True\n",
        "            self.current_hand = self.use_ace(self.current_hand)\n",
        "        \n",
        "        # Player's current sum\n",
        "        self.current_sum = self.current_hand.sum()\n",
        "        \n",
        "        # Dealer's hand\n",
        "        self.dealer_hand = np.random.choice(range(1,11),2)\n",
        "        \n",
        "        # Dealer's sum\n",
        "        self.dealer_sum = self.dealer_hand.sum()\n",
        "        \n",
        "        # First element of self.dealer_hand is the current showing card of dealer\n",
        "        self.dealer_showing_card = self.dealer_hand[0]\n",
        "        \n",
        "        # Replace usable ace in the dealer's hand\n",
        "        if self.check_usable_ace(self.dealer_hand):\n",
        "            temp_dealer_hand = self.use_ace(self.dealer_hand)\n",
        "            self.dealer_sum = temp_dealer_hand.sum()\n",
        "            \n",
        "    def take_turn(self, current_player):\n",
        "        \"\"\"\n",
        "        Play one turn for the player. This function will be called from step() function, directly depending on the game state.\n",
        "        We will take new random card, add it to the current_player hand.\n",
        "\n",
        "        :param player: {\"player\", \"dealer\"}\n",
        "        :return: None\n",
        "        \"\"\"\n",
        "        if current_player == 'dealer':\n",
        "            # Take new random card\n",
        "            new_card = np.random.choice(range(1,11))\n",
        "            \n",
        "            # Add new card to the current_player hand\n",
        "            new_dealer_hand = np.array(self.dealer_hand.tolist() +  [new_card])\n",
        "            \n",
        "            # Check for usable ace and replace if found\n",
        "            if self.check_usable_ace(new_dealer_hand):\n",
        "                new_dealer_hand = self.use_ace(new_dealer_hand)\n",
        "          \n",
        "            self.dealer_hand = new_dealer_hand\n",
        "\n",
        "            # Update his sum\n",
        "            self.dealer_sum = self.dealer_hand.sum()\n",
        "                \n",
        "        if current_player == 'player':            \n",
        "            new_card = np.random.choice(range(1,11))           \n",
        "            new_player_hand = np.array(self.current_hand.tolist()+ [new_card])\n",
        "            \n",
        "            if self.check_usable_ace(new_player_hand):\n",
        "                self.usable_ace = True\n",
        "                new_player_hand = self.use_ace(new_player_hand)\n",
        "            \n",
        "            self.current_hand = new_player_hand\n",
        "            self.current_sum = self.current_hand.sum()\n",
        "            \n",
        "    def check_game_status(self, mode = 'normal'):\n",
        "        \"\"\"\n",
        "        Check the current status of the game.\n",
        "        During the 'normal' we check after each turn whether we got in the terminal state.\n",
        "        In the 'compare' mode we compare the totals of both players (player vs dealer) in order to pronounce the winner.\n",
        "        \n",
        "        :param mode: {'normal', 'compare'}\n",
        "        :return: dictionary with the winner, whether the game is finished and the reward of the game\n",
        "        \"\"\"\n",
        "        result = {'winner':'',\n",
        "                 'is_done': False,\n",
        "                 'reward':0}\n",
        "        \n",
        "        if mode == 'normal':\n",
        "            if self.current_sum > 21:\n",
        "                result['winner'] = 'dealer'\n",
        "                result['is_done'] = True\n",
        "                result['reward'] = -1\n",
        "            elif self.dealer_sum > 21:\n",
        "                result['winner'] = 'player'\n",
        "                result['is_done'] = True\n",
        "                result['reward'] = 1\n",
        "            elif self.current_sum == 21:\n",
        "                result['winner'] = 'player'\n",
        "                result['is_done'] = True\n",
        "                result['reward'] = 1\n",
        "            elif self.dealer_sum == 21:\n",
        "                result['winner'] = 'dealer'\n",
        "                result['is_done'] = True\n",
        "                result['reward'] = -1\n",
        "        \n",
        "        elif mode == 'compare':    \n",
        "            result['is_done'] = True\n",
        "            diff_21_player = 21 - self.current_sum \n",
        "            diff_21_dealer = 21 - self.dealer_sum\n",
        "            if diff_21_player > diff_21_dealer:\n",
        "                result['reward'] = -1\n",
        "                result['winner'] = 'dealer'\n",
        "            elif diff_21_player < diff_21_dealer:\n",
        "                result['reward'] = 1\n",
        "                result['winner'] = 'player'\n",
        "            else:\n",
        "                result['reward'] = 0\n",
        "                result['winner'] = 'draw'\n",
        "            return result\n",
        "        \n",
        "        return result\n",
        "    \n",
        "    def step(self,action):\n",
        "        \"\"\"\n",
        "        Performs one action.\n",
        "\n",
        "        :param action:\n",
        "        :return: dictionary with the winner, whether the game is finished and the reward of the game\n",
        "        \"\"\"\n",
        "        \n",
        "        # Increase number of actions that are taken during the game.\n",
        "        self.step_count += 1\n",
        "        \n",
        "        result = {'winner':'',\n",
        "                 'is_done': False,\n",
        "                 'reward':0} \n",
        "        \n",
        "        \"\"\"\n",
        "        Before taking the first step of the game, we need to ensure that there is no winning condition.\n",
        "        Check if the initial two cards of the players are 21. If anyone has 21, then that player wins.\n",
        "        If both players have 21, then the game is DRAW. Otherwise, we will continue with the game.\n",
        "        \"\"\"\n",
        "        if self.step_count == 1:\n",
        "            if self.check_usable_ace(self.current_hand):\n",
        "                self.current_hand = self.use_ace(self.current_hand)\n",
        "            if self.check_usable_ace(self.dealer_hand):\n",
        "                self.current_hand = self.use_ace(self.dealer_hand)\n",
        "            \n",
        "            if self.current_sum == 21 and self.dealer_sum == 21:\n",
        "                result['is_done'] = True\n",
        "                result['reward'] = 0\n",
        "                result['winner'] = 'draw'\n",
        "                return result\n",
        "            elif self.current_sum == 21 and self.dealer_sum < 21:\n",
        "                result['is_done'] = True\n",
        "                result['reward'] = 1\n",
        "                result['winner'] = 'player'\n",
        "                return result\n",
        "            elif self.dealer_sum == 21 and self.current_sum < 21:\n",
        "                result['is_done'] = True\n",
        "                result['reward'] = -1\n",
        "                result['winner'] = 'dealer'\n",
        "                return result\n",
        "            \n",
        "            if self.dealer_sum >= 17:\n",
        "                self.dealer_stand = True\n",
        "        \n",
        "        # action = 0 means \"HIT\"\n",
        "        if action == 0:     \n",
        "            self.take_turn('player')\n",
        "            result = self.check_game_status()\n",
        "            if result['is_done'] == True:\n",
        "                return result\n",
        "        \n",
        "        # action = 1 means \"STAND\"\n",
        "        if action == 1:\n",
        "            if self.dealer_stand == True:\n",
        "                  return self.check_game_status(mode = 'compare')\n",
        "                \n",
        "            \"\"\"\n",
        "            If the dealer hasn't stand, he will hit unless his sum is greater than or equal to 17.\n",
        "            After that, he will stand.\n",
        "            \"\"\"\n",
        "            while self.dealer_sum < 17:\n",
        "                self.take_turn('dealer')\n",
        "                result = self.check_game_status()\n",
        "                # After dealer stands, check the game status.\n",
        "                if result['is_done'] == True:\n",
        "                    return result\n",
        "\n",
        "            # If the game hasn't finished yet, we set dealer_stand to True, so the player will either HIT or STAND            \n",
        "            self.dealer_stand = True\n",
        "                      \n",
        "        return result\n",
        "        \n",
        "    def get_current_state(self):\n",
        "        \"\"\"\n",
        "        Get current state which is comprised of current player's sum, dealer's showing card and usable ace presence.\n",
        "        \n",
        "        :return: return current state variables\n",
        "        \"\"\"\n",
        "        current_state = {}\n",
        "        \n",
        "        current_state['current_sum'] = self.current_sum\n",
        "        current_state['dealer_showing_card'] = self.dealer_showing_card\n",
        "        current_state['usable_ace'] = self.usable_ace\n",
        "        \n",
        "        return current_state\n",
        "    \n",
        "    \n",
        "    def render(self):\n",
        "        \n",
        "        print(\"OBSERVABLE STATES\")\n",
        "        print(\"Current player's sum: {}\".format(self.current_sum))\n",
        "        print(\"Dealer's showing card: {}\".format(self.dealer_showing_card))\n",
        "        print(\"Player has usable Ace: {}\".format(self.usable_ace))\n",
        "        \n",
        "        print(\"INFORMATION ABOUT CARDS AND DEALER'S SUM\")\n",
        "        print(\"Player's hand: {}\".format(self.current_hand))\n",
        "        print(\"Dealer's hand: {}\".format(self.dealer_hand))\n",
        "        print(\"Dealer's sum: {}\".format(self.dealer_sum))\n"
      ],
      "execution_count": null,
      "outputs": []
    },
    {
      "cell_type": "markdown",
      "metadata": {
        "id": "VWjEfxRaPYI5"
      },
      "source": [
        "# Pomoćne funkcije za Q-learning"
      ]
    },
    {
      "cell_type": "code",
      "metadata": {
        "id": "TrkQ2R2AParB"
      },
      "source": [
        "# dictionaries used for converting the state values to indexes in the Q table\n",
        "current_sum_to_index = dict(zip(np.arange(4,33),np.arange(29)))  \n",
        "dealer_showing_card_to_index = dict(zip(np.arange(1,11),np.arange(10)))\n",
        "usable_ace_index = dict(zip([False,True],[0,1]))\n",
        "action_index = dict(zip(['HIT','STAND'],[0,1]))\n",
        "\n",
        "def get_state_q_indices(current_state):\n",
        "    \"\"\"\n",
        "    Get indexes of Q table for any given state.\n",
        "\n",
        "    :param current_state: comprised of current player's sum, dealer's showing card and usable ace presence.\n",
        "    :return: get table indexes for a state\n",
        "    \"\"\"\n",
        "    current_sum_idx = current_sum_to_index[current_state['current_sum']]\n",
        "    dealer_showing_card_idx = dealer_showing_card_to_index[current_state['dealer_showing_card']]\n",
        "    usable_ace_idx = usable_ace_index[current_state['usable_ace']]\n",
        "    \n",
        "    return [current_sum_idx,dealer_showing_card_idx,usable_ace_idx]\n",
        "\n",
        "def get_max_action(Q_sa, current_state):\n",
        "    \"\"\"\n",
        "    Get the action with the max Q-value for the given current state and the Q table.\n",
        "    \n",
        "    :param Q_sa: given Q table\n",
        "    :param current_state: current state\n",
        "    :return: best action for given state and Q table\n",
        "    \"\"\"\n",
        "    state_q_idxs = get_state_q_indices(current_state)\n",
        "    action = Q_sa[state_q_idxs[0],state_q_idxs[1],state_q_idxs[2],:].argmax()\n",
        "    \n",
        "    return action\n",
        "\n",
        "def get_q_value(Q_sa, state, action):\n",
        "    \"\"\"\n",
        "    Get Q(s,a) value for state and action in certain Q table.\n",
        "    \n",
        "    :param Q_sa: given Q table\n",
        "    :param state: given state\n",
        "    :param action: given action\n",
        "    :return: Q(s, a)\n",
        "    \"\"\"\n",
        "    state_q_idxs = get_state_q_indices(state)\n",
        "    q_value = Q_sa[state_q_idxs[0],state_q_idxs[1],state_q_idxs[2],action]\n",
        "\n",
        "    return q_value\n"
      ],
      "execution_count": null,
      "outputs": []
    },
    {
      "cell_type": "markdown",
      "metadata": {
        "id": "3Sy_P6byQ9kI"
      },
      "source": [
        "# Q-learning"
      ]
    },
    {
      "cell_type": "markdown",
      "metadata": {
        "id": "FqBfbAX8RBKI"
      },
      "source": [
        "Inicijalizacija Q tabele."
      ]
    },
    {
      "cell_type": "code",
      "metadata": {
        "id": "WZn-7E7gRCbo"
      },
      "source": [
        "\"\"\"\n",
        "Player's current sum is ranging from 4 to 32 => 32 - 4 + 1 = 29\n",
        "Dealer's showing card can be one from the following set {1, 2, 3, 4, 5, 6, 7, 8, 9, 10} => 10 values\n",
        "Ace can be usable or not => 2\n",
        "Actions are from the following set {\"HIT\", \"STAND\"} => 2\n",
        "\"\"\"\n",
        "Q = np.zeros((29,10,2,2))"
      ],
      "execution_count": null,
      "outputs": []
    },
    {
      "cell_type": "markdown",
      "metadata": {
        "id": "j-HMJcFGRopj"
      },
      "source": [
        "Proces treniranja."
      ]
    },
    {
      "cell_type": "code",
      "metadata": {
        "colab": {
          "base_uri": "https://localhost:8080/"
        },
        "id": "ODGE4SUhRpq5",
        "outputId": "8605357c-d109-4bc8-d259-01d92607a065"
      },
      "source": [
        "episode_count = 0\n",
        "total_episodes = 2000000\n",
        "\n",
        "# Discounting factor\n",
        "gamma = 0.9             \n",
        "\n",
        "# Used for filtering q-values, learning rate\n",
        "LAMBDA = 0.1\n",
        "\n",
        "# Defined Black Jack Environment\n",
        "environment = BlackJackEnvironment()\n",
        "\n",
        "while episode_count < total_episodes:    \n",
        "    environment.reset()\n",
        "    \n",
        "    current_state = environment.get_current_state()\n",
        "    current_action = get_max_action(Q, current_state)\n",
        "    \n",
        "    # Take action\n",
        "    step_result = environment.step(current_action)\n",
        "    \n",
        "    # Get into next state and get the reward\n",
        "    next_state = environment.get_current_state()\n",
        "    next_max_action = get_max_action(Q, next_state)\n",
        "    immediate_reward = step_result['reward']\n",
        "    \n",
        "    next_state_q_idxs = get_state_q_indices(next_state)\n",
        "    \n",
        "    # Get the q-value for the next state and max action in the next state\n",
        "    q_max_s_a = get_q_value(Q, next_state, next_max_action)\n",
        "    \n",
        "    td_target = immediate_reward + gamma * q_max_s_a\n",
        "    \n",
        "    # Get the q-value for the current state and action\n",
        "    q_current_s_a = get_q_value(Q, current_state, current_action)\n",
        "    \n",
        "    td_error = td_target - q_current_s_a\n",
        "    \n",
        "    state_q_idxs = get_state_q_indices(current_state)\n",
        "    \n",
        "    # Update the current Q(s, a)\n",
        "    Q[state_q_idxs[0],state_q_idxs[1],state_q_idxs[2],current_action] = q_current_s_a + LAMBDA * td_error\n",
        "\n",
        "    # get into the next state                                        \n",
        "    current_state = next_state\n",
        "    \n",
        "    if step_result['is_done']:\n",
        "        episode_count += 1\n",
        "        \n",
        "        if episode_count % 100000 == 0:\n",
        "            print(\"Episode number: {}\".format(episode_count))\n"
      ],
      "execution_count": null,
      "outputs": [
        {
          "output_type": "stream",
          "text": [
            "Episode number: 100000\n",
            "Episode number: 200000\n",
            "Episode number: 300000\n",
            "Episode number: 400000\n",
            "Episode number: 500000\n",
            "Episode number: 600000\n",
            "Episode number: 700000\n",
            "Episode number: 800000\n",
            "Episode number: 900000\n",
            "Episode number: 1000000\n",
            "Episode number: 1100000\n",
            "Episode number: 1200000\n",
            "Episode number: 1300000\n",
            "Episode number: 1400000\n",
            "Episode number: 1500000\n",
            "Episode number: 1600000\n",
            "Episode number: 1700000\n",
            "Episode number: 1800000\n",
            "Episode number: 1900000\n",
            "Episode number: 2000000\n"
          ],
          "name": "stdout"
        }
      ]
    },
    {
      "cell_type": "markdown",
      "metadata": {
        "id": "AVkZGM-cTlfy"
      },
      "source": [
        "# Diskusija rezultata"
      ]
    },
    {
      "cell_type": "code",
      "metadata": {
        "colab": {
          "base_uri": "https://localhost:8080/",
          "height": 530
        },
        "id": "dGBqeLRcTsnB",
        "outputId": "f62c1d5d-30f8-46eb-a14d-b238a3b249ba"
      },
      "source": [
        "fig, ax = plt.subplots(ncols= 2,figsize=(16,8)) \n",
        "sns.heatmap(Q[:,:,0,0],cmap = sns.light_palette((210, 90, 60), input=\"husl\"), ax = ax[0], \n",
        "            xticklabels=np.arange(1,11),yticklabels=np.arange(4,33))\n",
        "ax[0].set_title(\"Usable Ace = False, Action = HIT\")\n",
        "ax[0].set_xlabel(\"Dealer's Showing Card\")\n",
        "ax[0].set_ylabel(\"Current Player's Sum\")\n",
        "\n",
        "\n",
        "sns.heatmap(Q[:,:,0,1],cmap = sns.light_palette((210, 90, 60), input=\"husl\"), ax = ax[1],\n",
        "           xticklabels=np.arange(1,11),yticklabels=np.arange(4,33))\n",
        "ax[1].set_title(\"Usable Ace = False, Action = STAND\")\n",
        "ax[1].set_xlabel(\"Dealer's Showing Card\")\n",
        "ax[1].set_ylabel(\"Current Player's Sum\")\n"
      ],
      "execution_count": null,
      "outputs": [
        {
          "output_type": "execute_result",
          "data": {
            "text/plain": [
              "Text(609.9818181818181, 0.5, \"Current Player's Sum\")"
            ]
          },
          "metadata": {
            "tags": []
          },
          "execution_count": 7
        },
        {
          "output_type": "display_data",
          "data": {
            "image/png": "[encoded data removed]",
            "text/plain": [
              "<Figure size 1152x576 with 4 Axes>"
            ]
          },
          "metadata": {
            "tags": [],
            "needs_background": "light"
          }
        }
      ]
    },
    {
      "cell_type": "markdown",
      "metadata": {
        "id": "HrV5O5dqVBpo"
      },
      "source": [
        "Na osnovu gornjih heatmapa možemo uočiti koje je to akcije dobro izvršiti u kojem stanju.\n",
        "\n",
        "**Zaključak sa lijeve heatmape**: kada je ukupna suma igrača manja od 12, 13 onda je najbolje da se izvršava akcija \"HIT\".\n",
        "\n",
        "**Zaključak sa desne heatmape**: Za veće vrijednosti otkrivene karte djelitelja i veće vrijednosti ukupne sume igrača bolje je izvršiti akciju \"STAND\"."
      ]
    },
    {
      "cell_type": "code",
      "metadata": {
        "colab": {
          "base_uri": "https://localhost:8080/",
          "height": 530
        },
        "id": "lLMkofn0UWLL",
        "outputId": "12139d8a-29a3-4f62-c993-a424f86ff943"
      },
      "source": [
        "fig, ax = plt.subplots(ncols = 2, figsize=(16,8)) \n",
        "sns.heatmap(Q[:,:,1,0],cmap = sns.light_palette((210, 90, 60), input=\"husl\"), ax = ax[0],\n",
        "           xticklabels=np.arange(1,11),yticklabels=np.arange(4,33))\n",
        "ax[0].set_title(\"Usable Ace = True, Action = HIT\")\n",
        "ax[0].set_xlabel(\"Dealer's Showing Card\")\n",
        "ax[0].set_ylabel(\"Current Player's Sum\")\n",
        "\n",
        "\n",
        "sns.heatmap(Q[:,:,1,1],cmap = sns.light_palette((210, 90, 60), input=\"husl\"), ax =  ax[1],\n",
        "           xticklabels=np.arange(1,11),yticklabels=np.arange(4,33))\n",
        "ax[1].set_title(\"Usable Ace = True, Action = STAND\")\n",
        "ax[1].set_xlabel(\"Dealer's Showing Card\")\n",
        "ax[1].set_ylabel(\"Current Player's Sum\")"
      ],
      "execution_count": null,
      "outputs": [
        {
          "output_type": "execute_result",
          "data": {
            "text/plain": [
              "Text(609.9818181818181, 0.5, \"Current Player's Sum\")"
            ]
          },
          "metadata": {
            "tags": []
          },
          "execution_count": 8
        },
        {
          "output_type": "display_data",
          "data": {
            "image/png": "[encoded data removed]",
            "text/plain": [
              "<Figure size 1152x576 with 4 Axes>"
            ]
          },
          "metadata": {
            "tags": [],
            "needs_background": "light"
          }
        }
      ]
    },
    {
      "cell_type": "markdown",
      "metadata": {
        "id": "oUGfPJ4BWBWg"
      },
      "source": [
        "U slučaju kad imamo iskoristiv kec, broj semplova je znatno manji, tako da paterni Q-vrijednosti nisu baš potpuno jasni, ali može se zaključiti da je najbolje izvršiti akciju **\"HIT\" u slučajevima kad je suma igrača oko 12**, dok se akcija **\"STAND\" izvršava u slučaju kada je igra pri kraju po pitanju sume igrača**."
      ]
    },
    {
      "cell_type": "markdown",
      "metadata": {
        "id": "6Pod3q_DXDke"
      },
      "source": [
        "Sada ćemo pogledati naučene politike (za slučaj pohlepne politike, jer želimo da naš igrač uvijek bira onako da najbolje igra).\n",
        "\n",
        "**Sa crnim blokovima označeno je kada treba izvršiti akciju \"HIT\"**, a imamo 2 heatmape za slučaj kad nemamo i imamo iskoristiv kec."
      ]
    },
    {
      "cell_type": "code",
      "metadata": {
        "colab": {
          "base_uri": "https://localhost:8080/",
          "height": 421
        },
        "id": "n9gPcxMrXJ2w",
        "outputId": "361266b9-63c9-4738-a9a0-7c9c895d0b15"
      },
      "source": [
        "fig, ax = plt.subplots(ncols= 1,figsize=(8,6)) \n",
        "sns.heatmap(np.argmax(Q[:17,:,0,:],axis=2),cmap = sns.cubehelix_palette(8, start=2, rot=0, dark=0, light=.95, reverse=True)\\\n",
        "           ,linewidths=1,xticklabels=np.arange(1,11),yticklabels=np.arange(4,33))\n",
        "ax.set_title(\"Usable Ace = False\")\n",
        "ax.set_xlabel(\"Dealer's Showing Card\")\n",
        "ax.set_ylabel(\"Current Player's Sum\")"
      ],
      "execution_count": null,
      "outputs": [
        {
          "output_type": "execute_result",
          "data": {
            "text/plain": [
              "Text(51.0, 0.5, \"Current Player's Sum\")"
            ]
          },
          "metadata": {
            "tags": []
          },
          "execution_count": 9
        },
        {
          "output_type": "display_data",
          "data": {
            "image/png": "[encoded data removed]",
            "text/plain": [
              "<Figure size 576x432 with 2 Axes>"
            ]
          },
          "metadata": {
            "tags": [],
            "needs_background": "light"
          }
        }
      ]
    },
    {
      "cell_type": "code",
      "metadata": {
        "colab": {
          "base_uri": "https://localhost:8080/",
          "height": 421
        },
        "id": "jDBgBqT8XQlG",
        "outputId": "043fcb46-6c76-4b6c-c318-7ef98531e982"
      },
      "source": [
        "fig, ax = plt.subplots(ncols= 1,figsize=(8,6)) \n",
        "sns.heatmap(np.argmax(Q[:17,:,1,:],axis=2),cmap = sns.cubehelix_palette(8, start=2, rot=0, dark=0, light=.95, reverse=True)\\\n",
        "           ,linewidths=1,xticklabels=np.arange(1,11),yticklabels=np.arange(4,33))\n",
        "ax.set_title(\"Usable Ace = True\")\n",
        "ax.set_xlabel(\"Dealer's Showing Card\")\n",
        "ax.set_ylabel(\"Current Player's Sum\")\n"
      ],
      "execution_count": null,
      "outputs": [
        {
          "output_type": "execute_result",
          "data": {
            "text/plain": [
              "Text(51.0, 0.5, \"Current Player's Sum\")"
            ]
          },
          "metadata": {
            "tags": []
          },
          "execution_count": 10
        },
        {
          "output_type": "display_data",
          "data": {
            "image/png": "[encoded data removed]",
            "text/plain": [
              "<Figure size 576x432 with 2 Axes>"
            ]
          },
          "metadata": {
            "tags": [],
            "needs_background": "light"
          }
        }
      ]
    },
    {
      "cell_type": "markdown",
      "metadata": {
        "id": "0Xj5cH8Rf2Gu"
      },
      "source": [
        "# Na kraju, nakon 2 miliona iteracija treniranja, testiraćemo algoritam na 10 000 partija."
      ]
    },
    {
      "cell_type": "code",
      "metadata": {
        "colab": {
          "base_uri": "https://localhost:8080/"
        },
        "id": "sPVlWwVhauQl",
        "outputId": "9b0c927a-d193-43cd-85b1-17d15dee4e0a"
      },
      "source": [
        "player_wins = 0\n",
        "dealer_wins = 0\n",
        "NUMBER_OF_GAMES = 10000\n",
        "\n",
        "for i in range(NUMBER_OF_GAMES):\n",
        "\n",
        "    environment.reset()\n",
        "\n",
        "    while True:\n",
        "        current_state = environment.get_current_state()\n",
        "        current_action = get_max_action(Q, current_state)\n",
        "\n",
        "        # Take action\n",
        "        step_result = environment.step(current_action)\n",
        "        #environment.render()\n",
        "        next_state = environment.get_current_state()\n",
        "        current_state = next_state\n",
        "\n",
        "        if step_result['is_done']:\n",
        "            break\n",
        "\n",
        "    if step_result['winner'] == 'player':\n",
        "        player_wins += 1\n",
        "    elif step_result['winner'] == 'dealer':\n",
        "        dealer_wins += 1\n",
        "\n",
        "print(\"Player wins: \" + str(player_wins))\n",
        "print(\"Dealer wins: \" + str(dealer_wins))\n",
        "print(\"Player wins percentage = \" + str(round(100 * (player_wins / (player_wins + dealer_wins)), 2)) + \"%\")"
      ],
      "execution_count": null,
      "outputs": [
        {
          "output_type": "stream",
          "text": [
            "Player wins: 3681\n",
            "Dealer wins: 5706\n",
            "Player wins percentage = 39.21%\n"
          ],
          "name": "stdout"
        }
      ]
    }
  ]
}
