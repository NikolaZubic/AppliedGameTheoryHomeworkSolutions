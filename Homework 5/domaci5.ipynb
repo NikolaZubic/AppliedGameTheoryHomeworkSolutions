{
  "nbformat": 4,
  "nbformat_minor": 0,
  "metadata": {
    "colab": {
      "name": "domaci5.ipynb",
      "provenance": [],
      "collapsed_sections": [],
      "authorship_tag": "ABX9TyPWfGj/Sk/xya3Iz+kutaNw",
      "include_colab_link": true
    },
    "kernelspec": {
      "name": "python3",
      "display_name": "Python 3"
    }
  },
  "cells": [
    {
      "cell_type": "markdown",
      "metadata": {
        "id": "view-in-github",
        "colab_type": "text"
      },
      "source": [
        "<a href=\"https://colab.research.google.com/github/NikolaZubic/AppliedGameTheoryHomeworkSolutions/blob/main/domaci5.ipynb\" target=\"_parent\"><img src=\"https://colab.research.google.com/assets/colab-badge.svg\" alt=\"Open In Colab\"/></a>"
      ]
    },
    {
      "cell_type": "markdown",
      "metadata": {
        "id": "bbyHgokbEsDf"
      },
      "source": [
        "# PETI DOMAĆI ZADATAK iz predmeta \"Primenjena teorija igara\" (Applied Game Theory)"
      ]
    },
    {
      "cell_type": "markdown",
      "metadata": {
        "id": "b0SrywJSEwl8"
      },
      "source": [
        "Rješenje problema Karnoove tržišne utakmice u slučaju duopola numeričkim putem."
      ]
    },
    {
      "cell_type": "markdown",
      "metadata": {
        "id": "9f5rM9w-E81n"
      },
      "source": [
        "# Potrebni import-i"
      ]
    },
    {
      "cell_type": "code",
      "metadata": {
        "id": "c50yxdLtE9XX"
      },
      "source": [
        "\"\"\"\n",
        "SymPy is a Python library for symbolic mathematics. It aims to become a full-featured computer algebra system (CAS) while keeping the code as simple as possible in order to be comprehensible \n",
        "and easily extensible. SymPy is written entirely in Python.\n",
        "\"\"\"\n",
        "from sympy import *"
      ],
      "execution_count": null,
      "outputs": []
    },
    {
      "cell_type": "markdown",
      "metadata": {
        "id": "cIW6oDnKm9lp"
      },
      "source": [
        "# Definisanje potrebnih simbola"
      ]
    },
    {
      "cell_type": "code",
      "metadata": {
        "id": "BdQ45tf4m57S"
      },
      "source": [
        "\"\"\"\n",
        "Transform strings into instances of Symbol class.\n",
        "symbols() function returns a sequence of symbols with names taken from names argument, which can be a comma or whitespace delimited string, or a sequence of strings.\n",
        "\"\"\"\n",
        "a1, a2 = symbols('a1 a2')"
      ],
      "execution_count": null,
      "outputs": []
    },
    {
      "cell_type": "markdown",
      "metadata": {
        "id": "FFJDQjWAnD3x"
      },
      "source": [
        "# Definisanje Karnoovog duopola"
      ]
    },
    {
      "cell_type": "code",
      "metadata": {
        "id": "2y01HphmG4M8"
      },
      "source": [
        "def cournot_competition_duopoly(demand, cost_first_producer, cost_second_producer):\n",
        "    \"\"\"\n",
        "    The cost functions may be the same or different among firms. The market price is set at a level such that demand \n",
        "    equals the total quantity produced by all firms. Each firm takes the quantity set by its competitors as a given, \n",
        "    evaluates its residual demand, and then behaves as a monopoly.\n",
        "\n",
        "    :param demand: total demand\n",
        "    :param cost_first_producer: cost function for first producer\n",
        "    :param cost_second_producer: cost function for second producer\n",
        "    :return: None, prints out information about firms\n",
        "    \"\"\"\n",
        "    utility_1 = demand * a1 - cost_first_producer\n",
        "    utility_2 = demand * a2 - cost_second_producer\n",
        "\n",
        "    \"\"\"\n",
        "    simplify() attempts to apply all functions it has in an intelligent way to arrive at the simplest form of an \n",
        "    expression\n",
        "    \"\"\"\n",
        "    u_1 = simplify(utility_1)\n",
        "    u_2 = simplify(utility_2)\n",
        "\n",
        "    # To take derivatives, use the diff function\n",
        "    du1_a1 = diff(u_1, a1)\n",
        "    du2_a2 = diff(u_2, a2)\n",
        "\n",
        "    # Solve system to get a1 and a2\n",
        "    solution = solve((du1_a1, du2_a2), (a1, a2))  # should return dictionary {a1: VALUE_1, a2: VALUE_2}\n",
        "\n",
        "    \"\"\"\n",
        "    Substitution replaces all instances of something in an expression with something else. It is done using the subs \n",
        "    method. We will use it for assigning numerical values to a1 and a2.\n",
        "    \"\"\"\n",
        "    assign_a1 = u_1.subs(a1, solution[a1])\n",
        "    assign_a2 = u_2.subs(a2, solution[a2])\n",
        "\n",
        "    utility_firm_1 = assign_a1.subs(a2, solution[a2])\n",
        "    utility_firm_2 = assign_a2.subs(a1, solution[a1])\n",
        "\n",
        "    price_firm_1 = demand.subs(a1, solution[a1])\n",
        "    price_firm_2 = price_firm_1.subs(a2, solution[a2])\n",
        "\n",
        "    print(\"A market-clearing quantities for firms 1 and 2 are: a_1 = {}, a_2 = {}\".format(round(solution[a1], 2),\n",
        "                                                                                          round(solution[a2], 2)))\n",
        "    print(\"Since the firms are competing by quantity, they set the same price, which is: {}\".\n",
        "          format(round(price_firm_2, 2)))\n",
        "    print(\"Firm 1 utility/profit is: {}\".format(round(utility_firm_1, 2)))\n",
        "    print(\"Firm 2 utility/profit is: {}\".format(round(utility_firm_2, 2)))"
      ],
      "execution_count": null,
      "outputs": []
    },
    {
      "cell_type": "markdown",
      "metadata": {
        "id": "bc6OcrFSpXgV"
      },
      "source": [
        "# Glavni program"
      ]
    },
    {
      "cell_type": "code",
      "metadata": {
        "colab": {
          "base_uri": "https://localhost:8080/"
        },
        "id": "FFP4PPfCG_oi",
        "outputId": "3649c4b2-9ceb-464e-e778-6eb4a7cfa032"
      },
      "source": [
        "cournot_competition_duopoly(100 - a1 - a2, 1/2 * a1**2, 1/2 * a2**2)\n",
        "print(83 * \"=\")\n",
        "\n",
        "cournot_competition_duopoly(120 - a1 - a2, a1**2, a2**2)\n",
        "print(83 * \"=\")\n",
        "\n",
        "cournot_competition_duopoly(50 - 2 * a1 - 2 * a2, a1 * 2 + 10, a2 * 2 + 10)\n",
        "print(83 * \"=\")\n",
        "\n",
        "cournot_competition_duopoly(50 - 2 * a1 - 2 * a2, a1 * 2 + 10, a2 * 8 + 12)"
      ],
      "execution_count": null,
      "outputs": [
        {
          "output_type": "stream",
          "text": [
            "A market-clearing quantities for firms 1 and 2 are: a_1 = 25.0, a_2 = 25.0\n",
            "Since the firms are competing by quantity, they set the same price, which is: 50.0\n",
            "Firm 1 utility/profit is: 937.5\n",
            "Firm 2 utility/profit is: 937.5\n",
            "===================================================================================\n",
            "A market-clearing quantities for firms 1 and 2 are: a_1 = 24.0, a_2 = 24.0\n",
            "Since the firms are competing by quantity, they set the same price, which is: 72.0\n",
            "Firm 1 utility/profit is: 1152.0\n",
            "Firm 2 utility/profit is: 1152.0\n",
            "===================================================================================\n",
            "A market-clearing quantities for firms 1 and 2 are: a_1 = 8.0, a_2 = 8.0\n",
            "Since the firms are competing by quantity, they set the same price, which is: 18.0\n",
            "Firm 1 utility/profit is: 118.0\n",
            "Firm 2 utility/profit is: 118.0\n",
            "===================================================================================\n",
            "A market-clearing quantities for firms 1 and 2 are: a_1 = 9.0, a_2 = 6.0\n",
            "Since the firms are competing by quantity, they set the same price, which is: 20.0\n",
            "Firm 1 utility/profit is: 152.0\n",
            "Firm 2 utility/profit is: 60.0\n"
          ],
          "name": "stdout"
        }
      ]
    }
  ]
}
