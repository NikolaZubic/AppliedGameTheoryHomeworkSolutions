{
  "nbformat": 4,
  "nbformat_minor": 0,
  "metadata": {
    "colab": {
      "name": "domaci6_b.ipynb",
      "provenance": [],
      "collapsed_sections": [],
      "authorship_tag": "ABX9TyPXtO4q9ULKUvEbtqw+/Jvs",
      "include_colab_link": true
    },
    "kernelspec": {
      "name": "python3",
      "display_name": "Python 3"
    }
  },
  "cells": [
    {
      "cell_type": "markdown",
      "metadata": {
        "id": "view-in-github",
        "colab_type": "text"
      },
      "source": [
        "<a href=\"https://colab.research.google.com/github/NikolaZubic/AppliedGameTheoryHomeworkSolutions/blob/main/domaci6_b.ipynb\" target=\"_parent\"><img src=\"https://colab.research.google.com/assets/colab-badge.svg\" alt=\"Open In Colab\"/></a>"
      ]
    },
    {
      "cell_type": "markdown",
      "metadata": {
        "id": "J4Z_XK_z2fS4"
      },
      "source": [
        "# SEDMI DOMAĆI ZADATAK iz predmeta \"Primenjena teorija igara\" (Applied Game Theory)"
      ]
    },
    {
      "cell_type": "markdown",
      "metadata": {
        "id": "w-OdFLGN2hAC"
      },
      "source": [
        "b) Simulacija evolutivne igre koja u osnovi ima igru \"Papir-Bunar-Makaze\". Rađeno je po uzoru na rad: [arXiv](https://arxiv.org/abs/1502.03370) jer te replikatorske-mutacione jednačine imaju još parametara pa su u stanju da dobiju suptilnije/bolje riješenje (imaju više informacija)."
      ]
    },
    {
      "cell_type": "markdown",
      "metadata": {
        "id": "r7WVdm3I28UU"
      },
      "source": [
        "# Potrebni import-i"
      ]
    },
    {
      "cell_type": "code",
      "metadata": {
        "id": "1m3udf4w3AwC"
      },
      "source": [
        "import numpy as np\n",
        "from math import sqrt\n",
        "import matplotlib.pyplot as plt"
      ],
      "execution_count": null,
      "outputs": []
    },
    {
      "cell_type": "markdown",
      "metadata": {
        "id": "twFiFQDa3W4t"
      },
      "source": [
        "# Izračunavanje fitnes funkcije"
      ]
    },
    {
      "cell_type": "code",
      "metadata": {
        "id": "ooybWdU03adv"
      },
      "source": [
        "def calculate_average_fitness_function(x, y, z, eps):\n",
        "    \"\"\"\n",
        "    Calculate average fitness function in the whole population for given population densities.\n",
        "    Three strategies: {\"Rock\", \"Paper\", \"Scissors\"}\n",
        "\n",
        "    :param x: part of population that plays first strategy - Rock\n",
        "    :param y: part of population that plays second strategy - Paper\n",
        "    :param z: part of population that plays third strategy - Scissors\n",
        "    :param eps: magnitude of loss in a non-zero sum game\n",
        "    :return: weighted average fitness in the whole population\n",
        "    \"\"\"\n",
        "    x_fitness = z - y * (eps + 1)\n",
        "    y_fitness = x - z * (eps + 1)\n",
        "    z_fitness = y - x * (eps + 1)\n",
        "\n",
        "    # p refers to the weighted average of the functions\n",
        "    p = x * x_fitness + y * y_fitness + z * z_fitness\n",
        "\n",
        "    return p"
      ],
      "execution_count": null,
      "outputs": []
    },
    {
      "cell_type": "markdown",
      "metadata": {
        "id": "lUINTUDx4hin"
      },
      "source": [
        "# Replikatorsko-mutacione jednačine koje se tiču promjena x i y "
      ]
    },
    {
      "cell_type": "markdown",
      "metadata": {
        "id": "a7Go2eQP49xX"
      },
      "source": [
        "Dinamiku sistema je moguće uzeti u obzir samo ako gledamo x i y, jer se z može predstaviti kao 1 - x - y."
      ]
    },
    {
      "cell_type": "code",
      "metadata": {
        "id": "emBw5bKg5Gji"
      },
      "source": [
        "def fitness_x(x, y, eps):\n",
        "    a = 1 - x - y * (eps + 2)\n",
        "    return a\n",
        "\n",
        "\n",
        "def x_dot(x, y, z, eps, phi, mu):\n",
        "    fx = fitness_x(x, y, eps)\n",
        "\n",
        "    change_x = x * (fx - phi) + mu * (-2 * x + y + z)\n",
        "\n",
        "    return change_x\n",
        "\n",
        "\n",
        "def fitness_y(x, y, eps):\n",
        "    a = x * (eps + 2) + (y - 1) * (eps + 1)\n",
        "    return a\n",
        "\n",
        "\n",
        "def y_dot(x, y, z, eps, phi, mu):\n",
        "    fy = fitness_y(x, y, eps)\n",
        "\n",
        "    change_y = y * (fy - phi) + mu * (-2 * y + x + z)\n",
        "\n",
        "    return change_y"
      ],
      "execution_count": null,
      "outputs": []
    },
    {
      "cell_type": "markdown",
      "metadata": {
        "id": "N0ZY_kTe5a6i"
      },
      "source": [
        "# Glavni program"
      ]
    },
    {
      "cell_type": "code",
      "metadata": {
        "colab": {
          "base_uri": "https://localhost:8080/"
        },
        "id": "P3GP5kJG5dqO",
        "outputId": "cdad4dc9-f5c9-4a07-d0d7-8f31c567f4d8"
      },
      "source": [
        "if __name__ == \"__main__\":\n",
        "    x = 0\n",
        "    y = 0.8\n",
        "    z = 0.2\n",
        "\n",
        "    eps = 1\n",
        "    mu = 0.1  # mutation rate\n",
        "\n",
        "    n = 0\n",
        "\n",
        "    transformation_matrix = np.array([\n",
        "        [1, 0.5],\n",
        "        [0, sqrt(3) / 2]\n",
        "    ])\n",
        "    initial = np.array([\n",
        "        [x],\n",
        "        [y]\n",
        "    ])\n",
        "\n",
        "    initial_points = transformation_matrix * initial\n",
        "    print(\"Initial points:\")\n",
        "    print(initial_points)\n",
        "    print(\"\\n\")\n",
        "\n",
        "    while n < 30:\n",
        "        ph = calculate_average_fitness_function(x, y, z, eps)\n",
        "        dX = x_dot(x, y, z, eps, ph, mu)\n",
        "        dY = y_dot(x, y, z, eps, ph, mu)\n",
        "\n",
        "        x = x + dX * 0.01\n",
        "        y = y + dY * 0.01\n",
        "        z = 1 - x - y\n",
        "\n",
        "        original = np.array([[x], [y]])\n",
        "\n",
        "        new_points = transformation_matrix * original\n",
        "\n",
        "        n = n + 0.01\n",
        "\n",
        "    print(\"New points:\")\n",
        "    print(new_points)\n",
        "    print(\"\\n\")"
      ],
      "execution_count": null,
      "outputs": [
        {
          "output_type": "stream",
          "text": [
            "Initial points:\n",
            "[[0.         0.        ]\n",
            " [0.         0.69282032]]\n",
            "\n",
            "\n",
            "New points:\n",
            "[[0.32803713 0.16401856]\n",
            " [0.         0.29260635]]\n",
            "\n",
            "\n"
          ],
          "name": "stdout"
        }
      ]
    },
    {
      "cell_type": "markdown",
      "metadata": {
        "id": "NoL2ksaYQoth"
      },
      "source": [
        "Vrijednosti new_points u svakoj iteraciji while petlje se mogu i plotovati unutar jednakostraničnog trougla, pa dobijamo:"
      ]
    },
    {
      "cell_type": "markdown",
      "metadata": {
        "id": "k-nNQ96zQyt0"
      },
      "source": [
        "![image.png](data:image/png;base64,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)"
      ]
    }
  ]
}
